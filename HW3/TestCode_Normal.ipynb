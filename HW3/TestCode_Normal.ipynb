{
 "cells": [
  {
   "cell_type": "markdown",
   "metadata": {
    "collapsed": true
   },
   "source": [
    "# Test Normal model implementation\n"
   ]
  },
  {
   "cell_type": "code",
   "execution_count": 1,
   "metadata": {},
   "outputs": [],
   "source": [
    "import numpy as np"
   ]
  },
  {
   "cell_type": "code",
   "execution_count": 2,
   "metadata": {},
   "outputs": [],
   "source": [
    "# import\n",
    "#from option_models import bsm\n",
    "#from option_models import normal\n",
    "\n",
    "#import option_models as opt\n",
    "from option_models import normal"
   ]
  },
  {
   "cell_type": "code",
   "execution_count": 4,
   "metadata": {},
   "outputs": [
    {
     "data": {
      "text/plain": [
       "<module 'option_models.normal' from 'F:\\\\GitHub\\\\PHBS_ASP_2019\\\\HW3\\\\option_models\\\\normal.py'>"
      ]
     },
     "execution_count": 4,
     "metadata": {},
     "output_type": "execute_result"
    }
   ],
   "source": [
    "### only run this when you changed the class definition\n",
    "import imp\n",
    "imp.reload(normal)"
   ]
  },
  {
   "cell_type": "code",
   "execution_count": null,
   "metadata": {},
   "outputs": [],
   "source": []
  },
  {
   "cell_type": "markdown",
   "metadata": {
    "collapsed": true
   },
   "source": [
    "### Price"
   ]
  },
  {
   "cell_type": "code",
   "execution_count": 5,
   "metadata": {},
   "outputs": [],
   "source": [
    "# create model\n",
    "texp = 0.25\n",
    "vol = 20\n",
    "norm1 = normal.Model(texp, vol)"
   ]
  },
  {
   "cell_type": "code",
   "execution_count": 6,
   "metadata": {},
   "outputs": [
    {
     "name": "stdout",
     "output_type": "stream",
     "text": [
      "3.0689463586327648\n"
     ]
    }
   ],
   "source": [
    "# price\n",
    "strike = 102\n",
    "spot = 100\n",
    "\n",
    "price = norm1.price(strike=strike, spot=spot, cp_sign=1)\n",
    "print(price)"
   ]
  },
  {
   "cell_type": "markdown",
   "metadata": {},
   "source": [
    "### Implied vol"
   ]
  },
  {
   "cell_type": "code",
   "execution_count": 7,
   "metadata": {},
   "outputs": [],
   "source": [
    "# Randomly generate spot/strike/expiry/intr/divr/cp_sign\n",
    "# Then test implied volatility\n",
    "\n",
    "for k in range(100):\n",
    "    spot = np.random.uniform(80,100)\n",
    "    strike = np.random.uniform(80,100)\n",
    "    vol = np.random.uniform(10, 20)\n",
    "    texp = np.random.uniform(0.1, 5)\n",
    "    intr = np.random.uniform(0, 0.3)\n",
    "    divr = np.random.uniform(0, 0.3)\n",
    "    cp_sign = 1 if np.random.rand() > 0.5 else -1\n",
    "\n",
    "    #print( spot, strike, vol, texp, intr, divr, cp_sign)\n",
    "\n",
    "    norm1 = normal.Model(texp=texp, vol=vol, intr=intr, divr=divr)\n",
    "    price = norm1.price(strike, spot, cp_sign=cp_sign)\n",
    "    \n",
    "    # get implied vol\n",
    "    vol_imp = norm1.impvol(price, strike, spot, cp_sign=cp_sign)\n",
    "    \n",
    "    # now price option with the obtained implied vol\n",
    "    price_imp = norm1.price(strike, spot, texp, vol=vol_imp, cp_sign=cp_sign )\n",
    "    \n",
    "    # compare the two prices\n",
    "    assert( abs(price - price_imp) < 1e-8 )"
   ]
  },
  {
   "cell_type": "code",
   "execution_count": 11,
   "metadata": {},
   "outputs": [
    {
     "data": {
      "text/plain": [
       "(99,\n",
       " 7.5889590639181845,\n",
       " 18.537515719330823,\n",
       " 3.1167835438850413,\n",
       " 90.36295222389205,\n",
       " 94.84222663870791)"
      ]
     },
     "execution_count": 11,
     "metadata": {},
     "output_type": "execute_result"
    }
   ],
   "source": [
    "k, price, vol, texp, spot, strike"
   ]
  },
  {
   "cell_type": "code",
   "execution_count": null,
   "metadata": {
    "collapsed": true
   },
   "outputs": [],
   "source": []
  }
 ],
 "metadata": {
  "anaconda-cloud": {},
  "kernelspec": {
   "display_name": "Python 3",
   "language": "python",
   "name": "python3"
  },
  "language_info": {
   "codemirror_mode": {
    "name": "ipython",
    "version": 3
   },
   "file_extension": ".py",
   "mimetype": "text/x-python",
   "name": "python",
   "nbconvert_exporter": "python",
   "pygments_lexer": "ipython3",
   "version": "3.7.3"
  }
 },
 "nbformat": 4,
 "nbformat_minor": 1
}
