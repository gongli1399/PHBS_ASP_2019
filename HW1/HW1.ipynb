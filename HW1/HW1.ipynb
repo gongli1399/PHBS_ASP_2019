{
 "cells": [
  {
   "cell_type": "markdown",
   "metadata": {},
   "source": [
    "# HW 1: Corporate Bond Pricing (due by 9.17 Tues)"
   ]
  },
  {
   "cell_type": "markdown",
   "metadata": {},
   "source": [
    "We are going to compute the price of a corporate bond (subject to default) with Monte-Carlo simulation. Assume that \n",
    "* the default time of a company follows the exponential distribution with intensity $\\lambda=$__`def_rate`__. \n",
    "* the riskfree interest rate is $r_f=$__`rf_rate`__ and the maturity of the bond is $T=$__`mat`__. \n",
    "* in the case of default, you can recover some portion ($R=$__`recovery_rate`__) of the face value.\n",
    "* the coupon is 0%, i.e., it is a zero-coupon bond.\n",
    "* the face value of the bond is 1.0\n",
    "* use compound rate for discounting; the price of the default-free bond is $e^{-r_f T}$\n",
    "\n",
    "The Problem 1 of the [2017 ASP Midterm Exam](../files/ASP2017_Midterm.pdf) will be helpful.\n",
    "\n",
    "### Instruction to upload your HW\n",
    "* Create a repository named __`PHBS_ASP_2019`__ (and clone it to your PC)\n",
    "* Copy this file to __`PHBS_ASP_2019/HW1/HW1.ipynb`__  (Please use the same name for repository and ipynb file)\n",
    "* Add solution code.\n",
    "* Run your your code to make sure that there's no error.\n",
    "* Upload (commit and sync) your file."
   ]
  },
  {
   "cell_type": "markdown",
   "metadata": {},
   "source": [
    "### 1. First, let's create a pricing function and check the std "
   ]
  },
  {
   "cell_type": "code",
   "execution_count": 2,
   "metadata": {},
   "outputs": [],
   "source": [
    "import numpy as np"
   ]
  },
  {
   "cell_type": "code",
   "execution_count": 3,
   "metadata": {},
   "outputs": [],
   "source": [
    "def_rate = 0.1\n",
    "rf_rate = 0.03\n",
    "recovery = 0.3\n",
    "mat = 10"
   ]
  },
  {
   "cell_type": "markdown",
   "metadata": {},
   "source": []
  },
  {
   "cell_type": "code",
   "execution_count": 4,
   "metadata": {},
   "outputs": [
    {
     "data": {
      "text/plain": [
       "(10.019349955383795, 10.0)"
      ]
     },
     "execution_count": 4,
     "metadata": {},
     "output_type": "execute_result"
    }
   ],
   "source": [
    "# First generate exponential random numbers\n",
    "# Although you can generate directly using fault_time = np.random.exponential(scale=), let's use uniform random numbers.\n",
    "n_sample = 10000\n",
    "U = np.random.uniform(size=n_sample)\n",
    "default_time = -(1/def_rate)*np.log(U)\n",
    "\n",
    "# You can check if the RNs are correct by comparing the means\n",
    "(default_time.mean(), 1/def_rate)"
   ]
  },
  {
   "cell_type": "code",
   "execution_count": 6,
   "metadata": {},
   "outputs": [
    {
     "data": {
      "text/plain": [
       "(0.44032439587236205, 0.002144107443519688)"
      ]
     },
     "execution_count": 6,
     "metadata": {},
     "output_type": "execute_result"
    }
   ],
   "source": [
    "# Put your code here to price the corporate bond\n",
    "\n",
    "def corp_bond(mat=1, def_rate=0.03, rf_rate=0.04, recovery=0.3, n_sample=10000):\n",
    "    U = np.random.uniform(size = n_sample)\n",
    "    default_time = -(1/def_rate) * np.log(U)\n",
    "    terminal_time = np.minimum(default_time, mat)\n",
    "    isdefault = (default_time <= mat)\n",
    "    bond_price = (1 - (1-recovery)*isdefault) * np.exp(-rf_rate*terminal_time)\n",
    "    return bond_price.mean()\n",
    "\n",
    "# Call your function\n",
    "corp_bond(mat, def_rate, rf_rate, recovery, n_sample)\n",
    "\n",
    "# Find the mean and std by calling the function 100 times. \n",
    "\n",
    "corp_bond_list = [corp_bond(mat, def_rate, rf_rate, recovery, n_sample) for i in range(100)]\n",
    "np.mean(corp_bond_list), np.std(corp_bond_list)\n"
   ]
  },
  {
   "cell_type": "markdown",
   "metadata": {},
   "source": [
    "### 2. Now, let's improve the function by reducing the MC variations.\n",
    "1. Use antithetic method: If `U` is uniform random variable, so is `1-U`\n",
    "2. Also shift the RNs to match the mean, `1/def_rate`"
   ]
  },
  {
   "cell_type": "code",
   "execution_count": 9,
   "metadata": {},
   "outputs": [
    {
     "data": {
      "text/plain": [
       "(9.999999999999998, 10.0)"
      ]
     },
     "execution_count": 9,
     "metadata": {},
     "output_type": "execute_result"
    }
   ],
   "source": [
    "# For example, antithetic method mean\n",
    "n_sample = 10000\n",
    "U = np.random.uniform(size=n_sample//2)\n",
    "default_time = -(1/def_rate)*np.log(np.concatenate((U,1-U),axis=0))\n",
    "\n",
    "# Mean-matching means\n",
    "default_time += 1/def_rate-default_time.mean()\n",
    "(default_time.mean(), 1/def_rate)"
   ]
  },
  {
   "cell_type": "code",
   "execution_count": 10,
   "metadata": {},
   "outputs": [
    {
     "name": "stdout",
     "output_type": "stream",
     "text": [
      "0.4404289882603583 0.001627494551202447\n",
      "0.4407263194190134 0.0014568967563575255\n",
      "0.4405184249954597 0.0015892181666201598\n"
     ]
    }
   ],
   "source": [
    "# No include the two new features: `antithetic` and `mean_match`\n",
    "\n",
    "def corp_bond_cv(mat=1, def_rate=0.03, rf_rate=0.04, recovery=0.3, n_sample=1e4, antithetic=True, mean_match=True):\n",
    "    if(antithetic):\n",
    "        U = np.random.uniform(size = n_sample // 2)\n",
    "        default_time = -(1/def_rate)*np.log(np.concatenate((U,1-U),axis=0))\n",
    "        if (mean_match):\n",
    "            default_time += 1/def_rate-default_time.mean()\n",
    "    elif(mean_match):\n",
    "        U = np.random.uniform(size = n_sample)\n",
    "        default_time = -(1/def_rate) * np.log(U)\n",
    "        default_time += 1/def_rate-default_time.mean()\n",
    "    else:\n",
    "        U = np.random.uniform(size=n_sample)\n",
    "        default_time = -(1/def_rate)*np.log(U)\n",
    "        \n",
    "    terminal_time = np.minimum(default_time, mat)\n",
    "    isdefault = (default_time <= mat)\n",
    "    bond_price = (1 - (1-recovery)*isdefault) * np.exp(-rf_rate*terminal_time)\n",
    "    return bond_price.mean()\n",
    "\n",
    "# Find the mean and std by calling the function 100 times for (i) antithetic (ii) mean_match and (iii) both\n",
    "\n",
    "# (i) antithetic\n",
    "corp_bond_cv_list1 = [corp_bond_cv(mat, def_rate, rf_rate, recovery, n_sample, antithetic=True, mean_match=False) for i in range(100)]\n",
    "# (ii) mean_match\n",
    "corp_bond_cv_list2 = [corp_bond_cv(mat, def_rate, rf_rate, recovery, n_sample, antithetic=False, mean_match=True) for i in range(100)]\n",
    "# (iii) both\n",
    "corp_bond_cv_list3 = [corp_bond_cv(mat, def_rate, rf_rate, recovery, n_sample, antithetic=True, mean_match=True) for i in range(100)]\n",
    "print(np.mean(corp_bond_cv_list1), np.std(corp_bond_cv_list1)) \n",
    "print(np.mean(corp_bond_cv_list2), np.std(corp_bond_cv_list2))\n",
    "print(np.mean(corp_bond_cv_list3), np.std(corp_bond_cv_list3))"
   ]
  },
  {
   "cell_type": "markdown",
   "metadata": {
    "collapsed": true
   },
   "source": [
    "### 3. Finally, what is the analytic value of the corporate bond? How does it compare to your MC result above?"
   ]
  },
  {
   "cell_type": "code",
   "execution_count": 12,
   "metadata": {},
   "outputs": [
    {
     "data": {
      "text/plain": [
       "0.44040907156462505"
      ]
     },
     "execution_count": 12,
     "metadata": {},
     "output_type": "execute_result"
    }
   ],
   "source": [
    "### Put the analytic expression for the corporate bond price\n",
    "\n",
    "analy_price = (recovery*def_rate) / (def_rate+rf_rate) * (1-np.exp(-(def_rate+rf_rate)*mat)) + np.exp(-(rf_rate+def_rate)*mat)\n",
    "analy_price"
   ]
  },
  {
   "cell_type": "markdown",
   "metadata": {},
   "source": [
    "$$\n",
    "analy\\_price = \\int_{0}^{T}recovery \\times e^{-rt} \\lambda e^{-\\lambda t}dt + e^{-(r+\\lambda)T}\n",
    "= \\frac{recovery \\times \\lambda}{\\lambda+r} [1-e^{-(\\lambda+r)T}] + e^{-(r+\\lambda)T} \n",
    "$$"
   ]
  },
  {
   "cell_type": "code",
   "execution_count": null,
   "metadata": {},
   "outputs": [],
   "source": []
  }
 ],
 "metadata": {
  "anaconda-cloud": {},
  "kernelspec": {
   "display_name": "Python 3",
   "language": "python",
   "name": "python3"
  },
  "language_info": {
   "codemirror_mode": {
    "name": "ipython",
    "version": 3
   },
   "file_extension": ".py",
   "mimetype": "text/x-python",
   "name": "python",
   "nbconvert_exporter": "python",
   "pygments_lexer": "ipython3",
   "version": "3.7.3"
  }
 },
 "nbformat": 4,
 "nbformat_minor": 1
}
